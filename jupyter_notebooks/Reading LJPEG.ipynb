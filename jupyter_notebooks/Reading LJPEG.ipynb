{
 "cells": [
  {
   "cell_type": "code",
   "execution_count": 2,
   "metadata": {},
   "outputs": [],
   "source": [
    "import pandas as pd\n",
    "import lxml.html as lh\n",
    "from PIL import Image\n",
    "import cv2"
   ]
  },
  {
   "cell_type": "code",
   "execution_count": null,
   "metadata": {},
   "outputs": [],
   "source": []
  },
  {
   "cell_type": "code",
   "execution_count": null,
   "metadata": {},
   "outputs": [],
   "source": []
  },
  {
   "cell_type": "code",
   "execution_count": 26,
   "metadata": {},
   "outputs": [],
   "source": [
    "import os\n",
    "import subprocess\n",
    "\n",
    "\n",
    "def Decom( FileName , x , y , pth ,ca):\n",
    "    os.chdir(r\"C:\\cygwin64\\bin\")\n",
    "    pth = pth.translate(str.maketrans('','',':'))\n",
    "    pth = pth.translate(str.maketrans('\\\\','/'))\n",
    "    done = 'cd /cygdrive/' + pth + '; '\n",
    "    done += './jpeg.exe -d -s ./' + ca + '/' + FileName + '; '\n",
    "    done += './ddsmraw2pnm.exe ./' + ca + '/' + FileName + '.1 ' + x + ' ' + y + ' lumisys; '\n",
    "    done += './convert.exe -depth 16 ./' + ca + '/' + FileName + '.1-ddsmraw2pnm.pnm ./' + ca + '/' + FileName  + '.png ; '\n",
    "    print (done)\n",
    "    cmd = [\"bash.exe\", \"-c\", done ]\n",
    "    subprocess.call(cmd)\n",
    "\n",
    "\n",
    "def Decom_all(path , case):    \n",
    "    file_list = []\n",
    "    new_path = path + '\\\\' + case\n",
    "    for file in [doc for doc in os.listdir(new_path) if doc.endswith(\".LJPEG\")]:\n",
    "        print(file)\n",
    "        file_list.append(file)\n",
    "    \n",
    "    for i in range(len(file_list)):\n",
    "        g = (file_list[i])\n",
    "        m = file_list[i].split('.')\n",
    "        d = m[0].split('_')\n",
    "        d = new_path + '/' + d[0] + '-' + d[1] + '-' + d[2] + '.ics'\n",
    "        lines = [line.split() for line in open(d)]\n",
    "        lines = sum(lines, [])\n",
    "        for i in range(len(lines)):\n",
    "            if (m[1] == lines[i]):\n",
    "                        x = lines[i+2]\n",
    "                        y = lines[i+4] \n",
    "                        break;\n",
    "        Decom( g , x , y , path,case)\n",
    "\n",
    "\n",
    "def gen_path(p):\n",
    "    file_list1 = []\n",
    "    for file in [doc for doc in os.listdir(p) if '.' not in doc]:\n",
    "        Decom_all(p ,file)"
   ]
  },
  {
   "cell_type": "code",
   "execution_count": 27,
   "metadata": {},
   "outputs": [],
   "source": [
    "\n",
    "#---------------------------------------------------------------------------------\n",
    "# Normal path =  'C:\\Users\\BR\\cancer\\case1226'\n",
    "# updated path = 'C:\\\\Users\\BR\\\\cancer'\n",
    "# add backslash \n",
    "\n",
    "pth = 'C:\\\\Users\\\\kspalinska\\\\Documents\\\\Materiały ze studiów\\\\MGR\\\\github\\\\DDSM_image_recognition\\\\some_data'\n",
    "FileName = \"A_0002_1.LEFT_MLO.LJPEG\"\n",
    "#"
   ]
  },
  {
   "cell_type": "code",
   "execution_count": 28,
   "metadata": {},
   "outputs": [
    {
     "name": "stdout",
     "output_type": "stream",
     "text": [
      "cd /cygdrive/C/Users/kspalinska/Documents/Materiały ze studiów/MGR/github/DDSM_image_recognition/some_data; ./jpeg.exe -d -s ./ca/A_0002_1.LEFT_MLO.LJPEG; ./ddsmraw2pnm.exe ./ca/A_0002_1.LEFT_MLO.LJPEG.1 10 20 lumisys; ./convert.exe -depth 16 ./ca/A_0002_1.LEFT_MLO.LJPEG.1-ddsmraw2pnm.pnm ./ca/A_0002_1.LEFT_MLO.LJPEG.png ; \n"
     ]
    }
   ],
   "source": [
    "Decom( FileName , \"10\" , \"20\" , pth ,\"ca\")"
   ]
  },
  {
   "cell_type": "code",
   "execution_count": 24,
   "metadata": {},
   "outputs": [],
   "source": [
    "gen_path(pth)"
   ]
  },
  {
   "cell_type": "code",
   "execution_count": null,
   "metadata": {},
   "outputs": [],
   "source": []
  },
  {
   "cell_type": "code",
   "execution_count": null,
   "metadata": {},
   "outputs": [],
   "source": []
  },
  {
   "cell_type": "code",
   "execution_count": null,
   "metadata": {},
   "outputs": [],
   "source": []
  },
  {
   "cell_type": "code",
   "execution_count": 23,
   "metadata": {},
   "outputs": [],
   "source": [
    "filename = \"A_0002_1.LEFT_CC.LJPEG\""
   ]
  },
  {
   "cell_type": "code",
   "execution_count": 26,
   "metadata": {},
   "outputs": [],
   "source": [
    "image = cv2.imread(filename)"
   ]
  },
  {
   "cell_type": "code",
   "execution_count": 27,
   "metadata": {},
   "outputs": [
    {
     "ename": "AttributeError",
     "evalue": "'NoneType' object has no attribute 'shape'",
     "output_type": "error",
     "traceback": [
      "\u001b[0;31m---------------------------------------------------------------------------\u001b[0m",
      "\u001b[0;31mAttributeError\u001b[0m                            Traceback (most recent call last)",
      "\u001b[0;32m<ipython-input-27-700027b9c436>\u001b[0m in \u001b[0;36m<module>\u001b[0;34m\u001b[0m\n\u001b[0;32m----> 1\u001b[0;31m \u001b[0mheight\u001b[0m\u001b[0;34m,\u001b[0m \u001b[0mwidth\u001b[0m\u001b[0;34m,\u001b[0m \u001b[0mchannels\u001b[0m \u001b[0;34m=\u001b[0m \u001b[0mimage\u001b[0m\u001b[0;34m.\u001b[0m\u001b[0mshape\u001b[0m\u001b[0;34m\u001b[0m\u001b[0;34m\u001b[0m\u001b[0m\n\u001b[0m",
      "\u001b[0;31mAttributeError\u001b[0m: 'NoneType' object has no attribute 'shape'"
     ]
    }
   ],
   "source": [
    "height, width, channels = image.shape"
   ]
  },
  {
   "cell_type": "code",
   "execution_count": 5,
   "metadata": {},
   "outputs": [
    {
     "ename": "error",
     "evalue": "OpenCV(4.1.1) /io/opencv/modules/highgui/src/window.cpp:352: error: (-215:Assertion failed) size.width>0 && size.height>0 in function 'imshow'\n",
     "output_type": "error",
     "traceback": [
      "\u001b[0;31m---------------------------------------------------------------------------\u001b[0m",
      "\u001b[0;31merror\u001b[0m                                     Traceback (most recent call last)",
      "\u001b[0;32m<ipython-input-5-264ff7bd29b1>\u001b[0m in \u001b[0;36m<module>\u001b[0;34m\u001b[0m\n\u001b[0;32m----> 1\u001b[0;31m \u001b[0mcv2\u001b[0m\u001b[0;34m.\u001b[0m\u001b[0mimshow\u001b[0m\u001b[0;34m(\u001b[0m\u001b[0;34m'image'\u001b[0m\u001b[0;34m,\u001b[0m\u001b[0mimage\u001b[0m\u001b[0;34m)\u001b[0m\u001b[0;34m\u001b[0m\u001b[0;34m\u001b[0m\u001b[0m\n\u001b[0m",
      "\u001b[0;31merror\u001b[0m: OpenCV(4.1.1) /io/opencv/modules/highgui/src/window.cpp:352: error: (-215:Assertion failed) size.width>0 && size.height>0 in function 'imshow'\n"
     ]
    }
   ],
   "source": [
    "cv2.imshow('image',image)"
   ]
  },
  {
   "cell_type": "code",
   "execution_count": null,
   "metadata": {},
   "outputs": [],
   "source": []
  }
 ],
 "metadata": {
  "kernelspec": {
   "display_name": "Python 3",
   "language": "python",
   "name": "python3"
  },
  "language_info": {
   "codemirror_mode": {
    "name": "ipython",
    "version": 3
   },
   "file_extension": ".py",
   "mimetype": "text/x-python",
   "name": "python",
   "nbconvert_exporter": "python",
   "pygments_lexer": "ipython3",
   "version": "3.7.3"
  }
 },
 "nbformat": 4,
 "nbformat_minor": 2
}
