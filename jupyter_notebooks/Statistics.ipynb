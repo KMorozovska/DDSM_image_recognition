{
 "cells": [
  {
   "cell_type": "code",
   "execution_count": 1,
   "metadata": {},
   "outputs": [],
   "source": [
    "import requests\n",
    "import pandas as pd\n",
    "from bs4 import BeautifulSoup\n",
    "import lxml.html as lh\n",
    "from PIL import Image\n",
    "import urllib.request\n",
    "import urllib\n",
    "import pickle"
   ]
  },
  {
   "cell_type": "code",
   "execution_count": 61,
   "metadata": {},
   "outputs": [],
   "source": [
    "with open('benigns_df.pkl', 'rb') as handle:\n",
    "    benigns_df = pickle.load(handle)\n",
    "    \n",
    "with open('benigns_abnormalities_df.pkl', 'rb') as handle:\n",
    "    benigns_abnormalities_df = pickle.load(handle)\n",
    "    \n",
    "with open('cancers_df.pkl', 'rb') as handle:\n",
    "    cancers_df = pickle.load(handle)\n",
    "    \n",
    "with open('cancers_abnormalities_df.pkl', 'rb') as handle:\n",
    "    cancers_abnormalities_df = pickle.load(handle)\n",
    "    \n",
    "with open('normals_df.pkl', 'rb') as handle:\n",
    "    normals_df = pickle.load(handle)    "
   ]
  },
  {
   "cell_type": "code",
   "execution_count": 110,
   "metadata": {},
   "outputs": [],
   "source": [
    "# GUI - wyświetlanie 4 obrazków + wybieranie tego co jest akurat interesujących"
   ]
  },
  {
   "cell_type": "markdown",
   "metadata": {},
   "source": [
    "## Normal"
   ]
  },
  {
   "cell_type": "code",
   "execution_count": 62,
   "metadata": {},
   "outputs": [
    {
     "data": {
      "text/plain": [
       "Index(['</pre>]', 'DATE_DIGITIZED', 'DATE_OF_STUDY', 'DENSITY', 'DIGITIZER',\n",
       "       'FILM', 'FILM_TYPE', 'LEFT_CC', 'LEFT_MLO', 'PATIENT_AGE', 'RIGHT_CC',\n",
       "       'RIGHT_MLO', '[<pre>', 'filename', 'ics_version', 'SEQUENCE'],\n",
       "      dtype='object')"
      ]
     },
     "execution_count": 62,
     "metadata": {},
     "output_type": "execute_result"
    }
   ],
   "source": [
    "normals_df.columns"
   ]
  },
  {
   "cell_type": "code",
   "execution_count": 63,
   "metadata": {},
   "outputs": [],
   "source": [
    "normals_df = normals_df.drop(['</pre>]', '[<pre>','FILM','SEQUENCE'], axis=1)"
   ]
  },
  {
   "cell_type": "code",
   "execution_count": 65,
   "metadata": {},
   "outputs": [
    {
     "data": {
      "text/html": [
       "<div>\n",
       "<style scoped>\n",
       "    .dataframe tbody tr th:only-of-type {\n",
       "        vertical-align: middle;\n",
       "    }\n",
       "\n",
       "    .dataframe tbody tr th {\n",
       "        vertical-align: top;\n",
       "    }\n",
       "\n",
       "    .dataframe thead th {\n",
       "        text-align: right;\n",
       "    }\n",
       "</style>\n",
       "<table border=\"1\" class=\"dataframe\">\n",
       "  <thead>\n",
       "    <tr style=\"text-align: right;\">\n",
       "      <th></th>\n",
       "      <th>DATE_DIGITIZED</th>\n",
       "      <th>DATE_OF_STUDY</th>\n",
       "      <th>DENSITY</th>\n",
       "      <th>DIGITIZER</th>\n",
       "      <th>FILM_TYPE</th>\n",
       "      <th>LEFT_CC</th>\n",
       "      <th>LEFT_MLO</th>\n",
       "      <th>PATIENT_AGE</th>\n",
       "      <th>RIGHT_CC</th>\n",
       "      <th>RIGHT_MLO</th>\n",
       "      <th>filename</th>\n",
       "      <th>ics_version</th>\n",
       "    </tr>\n",
       "  </thead>\n",
       "  <tbody>\n",
       "    <tr>\n",
       "      <th>0</th>\n",
       "      <td>2 11 1995</td>\n",
       "      <td>5 3 1991</td>\n",
       "      <td>2</td>\n",
       "      <td>DBA 21</td>\n",
       "      <td>REGULAR</td>\n",
       "      <td>LINES 4349 PIXELS_PER_LINE 1979 BITS_PER_PIXEL...</td>\n",
       "      <td>LINES 5069 PIXELS_PER_LINE 2039 BITS_PER_PIXEL...</td>\n",
       "      <td>63</td>\n",
       "      <td>LINES 4334 PIXELS_PER_LINE 1874 BITS_PER_PIXEL...</td>\n",
       "      <td>LINES 5084 PIXELS_PER_LINE 2129 BITS_PER_PIXEL...</td>\n",
       "      <td>A-0002-1</td>\n",
       "      <td>1.0</td>\n",
       "    </tr>\n",
       "    <tr>\n",
       "      <th>1</th>\n",
       "      <td>10 8 1995</td>\n",
       "      <td>7 3 1991</td>\n",
       "      <td>3</td>\n",
       "      <td>DBA 21</td>\n",
       "      <td>REGULAR</td>\n",
       "      <td>LINES 4514 PIXELS_PER_LINE 2084 BITS_PER_PIXEL...</td>\n",
       "      <td>LINES 5159 PIXELS_PER_LINE 2069 BITS_PER_PIXEL...</td>\n",
       "      <td>66</td>\n",
       "      <td>LINES 4679 PIXELS_PER_LINE 2114 BITS_PER_PIXEL...</td>\n",
       "      <td>LINES 5399 PIXELS_PER_LINE 2159 BITS_PER_PIXEL...</td>\n",
       "      <td>A-0003-1</td>\n",
       "      <td>1.0</td>\n",
       "    </tr>\n",
       "    <tr>\n",
       "      <th>2</th>\n",
       "      <td>15 8 1995</td>\n",
       "      <td>23 10 1991</td>\n",
       "      <td>4</td>\n",
       "      <td>DBA 21</td>\n",
       "      <td>REGULAR</td>\n",
       "      <td>LINES 3959 PIXELS_PER_LINE 1799 BITS_PER_PIXEL...</td>\n",
       "      <td>LINES 4454 PIXELS_PER_LINE 1949 BITS_PER_PIXEL...</td>\n",
       "      <td>44</td>\n",
       "      <td>LINES 4139 PIXELS_PER_LINE 1904 BITS_PER_PIXEL...</td>\n",
       "      <td>LINES 5099 PIXELS_PER_LINE 2084 BITS_PER_PIXEL...</td>\n",
       "      <td>A-0005-1</td>\n",
       "      <td>1.0</td>\n",
       "    </tr>\n",
       "  </tbody>\n",
       "</table>\n",
       "</div>"
      ],
      "text/plain": [
       "  DATE_DIGITIZED DATE_OF_STUDY DENSITY DIGITIZER FILM_TYPE  \\\n",
       "0      2 11 1995      5 3 1991       2    DBA 21   REGULAR   \n",
       "1      10 8 1995      7 3 1991       3    DBA 21   REGULAR   \n",
       "2      15 8 1995    23 10 1991       4    DBA 21   REGULAR   \n",
       "\n",
       "                                             LEFT_CC  \\\n",
       "0  LINES 4349 PIXELS_PER_LINE 1979 BITS_PER_PIXEL...   \n",
       "1  LINES 4514 PIXELS_PER_LINE 2084 BITS_PER_PIXEL...   \n",
       "2  LINES 3959 PIXELS_PER_LINE 1799 BITS_PER_PIXEL...   \n",
       "\n",
       "                                            LEFT_MLO PATIENT_AGE  \\\n",
       "0  LINES 5069 PIXELS_PER_LINE 2039 BITS_PER_PIXEL...          63   \n",
       "1  LINES 5159 PIXELS_PER_LINE 2069 BITS_PER_PIXEL...          66   \n",
       "2  LINES 4454 PIXELS_PER_LINE 1949 BITS_PER_PIXEL...          44   \n",
       "\n",
       "                                            RIGHT_CC  \\\n",
       "0  LINES 4334 PIXELS_PER_LINE 1874 BITS_PER_PIXEL...   \n",
       "1  LINES 4679 PIXELS_PER_LINE 2114 BITS_PER_PIXEL...   \n",
       "2  LINES 4139 PIXELS_PER_LINE 1904 BITS_PER_PIXEL...   \n",
       "\n",
       "                                           RIGHT_MLO  filename ics_version  \n",
       "0  LINES 5084 PIXELS_PER_LINE 2129 BITS_PER_PIXEL...  A-0002-1         1.0  \n",
       "1  LINES 5399 PIXELS_PER_LINE 2159 BITS_PER_PIXEL...  A-0003-1         1.0  \n",
       "2  LINES 5099 PIXELS_PER_LINE 2084 BITS_PER_PIXEL...  A-0005-1         1.0  "
      ]
     },
     "execution_count": 65,
     "metadata": {},
     "output_type": "execute_result"
    }
   ],
   "source": [
    "normals_df.head(3)"
   ]
  },
  {
   "cell_type": "code",
   "execution_count": 73,
   "metadata": {},
   "outputs": [
    {
     "name": "stdout",
     "output_type": "stream",
     "text": [
      "Wszystkie prawdidłowe przypadki: 694\n",
      "Prawdidłowe przypadki o gęstości 4: 150\n"
     ]
    }
   ],
   "source": [
    "print(\"Wszystkie prawdidłowe przypadki: \" + str(len(normals_df)))\n",
    "print(\"Prawdidłowe przypadki o gęstości 4: \" + str(len(normals_df.loc[normals_df['DENSITY']==\"4\"])))"
   ]
  },
  {
   "cell_type": "markdown",
   "metadata": {},
   "source": [
    "## Cancer & benign"
   ]
  },
  {
   "cell_type": "code",
   "execution_count": 75,
   "metadata": {},
   "outputs": [
    {
     "data": {
      "text/plain": [
       "Index(['</pre>]', 'DATE_DIGITIZED', 'DATE_OF_STUDY', 'DENSITY', 'DIGITIZER',\n",
       "       'FILM', 'FILM_TYPE', 'LEFT_CC', 'LEFT_MLO', 'PATIENT_AGE', 'RIGHT_CC',\n",
       "       'RIGHT_MLO', 'SEQUENCE', '[<pre>', 'filename', 'ics_version'],\n",
       "      dtype='object')"
      ]
     },
     "execution_count": 75,
     "metadata": {},
     "output_type": "execute_result"
    }
   ],
   "source": [
    "benigns_df.columns"
   ]
  },
  {
   "cell_type": "code",
   "execution_count": 76,
   "metadata": {},
   "outputs": [],
   "source": [
    "benigns_df = benigns_df.drop(['</pre>]','[<pre>', 'FILM', 'SEQUENCE'], axis=1)\n",
    "cancers_df = cancers_df.drop(['</pre>]','[<pre>', 'FILM', 'SEQUENCE'], axis=1)"
   ]
  },
  {
   "cell_type": "code",
   "execution_count": 77,
   "metadata": {
    "scrolled": true
   },
   "outputs": [
    {
     "data": {
      "text/html": [
       "<div>\n",
       "<style scoped>\n",
       "    .dataframe tbody tr th:only-of-type {\n",
       "        vertical-align: middle;\n",
       "    }\n",
       "\n",
       "    .dataframe tbody tr th {\n",
       "        vertical-align: top;\n",
       "    }\n",
       "\n",
       "    .dataframe thead th {\n",
       "        text-align: right;\n",
       "    }\n",
       "</style>\n",
       "<table border=\"1\" class=\"dataframe\">\n",
       "  <thead>\n",
       "    <tr style=\"text-align: right;\">\n",
       "      <th></th>\n",
       "      <th>DATE_DIGITIZED</th>\n",
       "      <th>DATE_OF_STUDY</th>\n",
       "      <th>DENSITY</th>\n",
       "      <th>DIGITIZER</th>\n",
       "      <th>FILM_TYPE</th>\n",
       "      <th>LEFT_CC</th>\n",
       "      <th>LEFT_MLO</th>\n",
       "      <th>PATIENT_AGE</th>\n",
       "      <th>RIGHT_CC</th>\n",
       "      <th>RIGHT_MLO</th>\n",
       "      <th>filename</th>\n",
       "      <th>ics_version</th>\n",
       "    </tr>\n",
       "  </thead>\n",
       "  <tbody>\n",
       "    <tr>\n",
       "      <th>0</th>\n",
       "      <td>9 10 1997</td>\n",
       "      <td>2 3 1993</td>\n",
       "      <td>3</td>\n",
       "      <td>LUMISYS LASER</td>\n",
       "      <td>REGULAR</td>\n",
       "      <td>LINES 4648 PIXELS_PER_LINE 2672 BITS_PER_PIXEL...</td>\n",
       "      <td>LINES 4680 PIXELS_PER_LINE 2664 BITS_PER_PIXEL...</td>\n",
       "      <td>66</td>\n",
       "      <td>LINES 4704 PIXELS_PER_LINE 2816 BITS_PER_PIXEL...</td>\n",
       "      <td>LINES 4648 PIXELS_PER_LINE 2864 BITS_PER_PIXEL...</td>\n",
       "      <td>C-0029-1</td>\n",
       "      <td>1.0</td>\n",
       "    </tr>\n",
       "    <tr>\n",
       "      <th>1</th>\n",
       "      <td>10 10 1997</td>\n",
       "      <td>18 11 1993</td>\n",
       "      <td>3</td>\n",
       "      <td>LUMISYS LASER</td>\n",
       "      <td>REGULAR</td>\n",
       "      <td>LINES 4672 PIXELS_PER_LINE 2616 BITS_PER_PIXEL...</td>\n",
       "      <td>LINES 4664 PIXELS_PER_LINE 2424 BITS_PER_PIXEL...</td>\n",
       "      <td>60</td>\n",
       "      <td>LINES 4656 PIXELS_PER_LINE 2680 BITS_PER_PIXEL...</td>\n",
       "      <td>LINES 4680 PIXELS_PER_LINE 2752 BITS_PER_PIXEL...</td>\n",
       "      <td>C-0033-1</td>\n",
       "      <td>1.0</td>\n",
       "    </tr>\n",
       "    <tr>\n",
       "      <th>2</th>\n",
       "      <td>14 4 1998</td>\n",
       "      <td>23 2 1996</td>\n",
       "      <td>2</td>\n",
       "      <td>LUMISYS LASER</td>\n",
       "      <td>REGULAR</td>\n",
       "      <td>LINES 6000 PIXELS_PER_LINE 3264 BITS_PER_PIXEL...</td>\n",
       "      <td>LINES 5992 PIXELS_PER_LINE 3368 BITS_PER_PIXEL...</td>\n",
       "      <td>56</td>\n",
       "      <td>LINES 5960 PIXELS_PER_LINE 3536 BITS_PER_PIXEL...</td>\n",
       "      <td>LINES 5944 PIXELS_PER_LINE 3752 BITS_PER_PIXEL...</td>\n",
       "      <td>C-0217-1</td>\n",
       "      <td>1.0</td>\n",
       "    </tr>\n",
       "  </tbody>\n",
       "</table>\n",
       "</div>"
      ],
      "text/plain": [
       "  DATE_DIGITIZED DATE_OF_STUDY DENSITY      DIGITIZER FILM_TYPE  \\\n",
       "0      9 10 1997      2 3 1993       3  LUMISYS LASER   REGULAR   \n",
       "1     10 10 1997    18 11 1993       3  LUMISYS LASER   REGULAR   \n",
       "2      14 4 1998     23 2 1996       2  LUMISYS LASER   REGULAR   \n",
       "\n",
       "                                             LEFT_CC  \\\n",
       "0  LINES 4648 PIXELS_PER_LINE 2672 BITS_PER_PIXEL...   \n",
       "1  LINES 4672 PIXELS_PER_LINE 2616 BITS_PER_PIXEL...   \n",
       "2  LINES 6000 PIXELS_PER_LINE 3264 BITS_PER_PIXEL...   \n",
       "\n",
       "                                            LEFT_MLO PATIENT_AGE  \\\n",
       "0  LINES 4680 PIXELS_PER_LINE 2664 BITS_PER_PIXEL...          66   \n",
       "1  LINES 4664 PIXELS_PER_LINE 2424 BITS_PER_PIXEL...          60   \n",
       "2  LINES 5992 PIXELS_PER_LINE 3368 BITS_PER_PIXEL...          56   \n",
       "\n",
       "                                            RIGHT_CC  \\\n",
       "0  LINES 4704 PIXELS_PER_LINE 2816 BITS_PER_PIXEL...   \n",
       "1  LINES 4656 PIXELS_PER_LINE 2680 BITS_PER_PIXEL...   \n",
       "2  LINES 5960 PIXELS_PER_LINE 3536 BITS_PER_PIXEL...   \n",
       "\n",
       "                                           RIGHT_MLO  filename ics_version  \n",
       "0  LINES 4648 PIXELS_PER_LINE 2864 BITS_PER_PIXEL...  C-0029-1         1.0  \n",
       "1  LINES 4680 PIXELS_PER_LINE 2752 BITS_PER_PIXEL...  C-0033-1         1.0  \n",
       "2  LINES 5944 PIXELS_PER_LINE 3752 BITS_PER_PIXEL...  C-0217-1         1.0  "
      ]
     },
     "execution_count": 77,
     "metadata": {},
     "output_type": "execute_result"
    }
   ],
   "source": [
    "benigns_df.head(3)"
   ]
  },
  {
   "cell_type": "code",
   "execution_count": 78,
   "metadata": {},
   "outputs": [
    {
     "data": {
      "text/plain": [
       "Index(['</font></pre>,', '</font></pre>]', '<font', 'ASSESSMENT', 'BOUNDARY',\n",
       "       'FILE:', 'LESION_TYPE', 'PATHOLOGY', 'SUBTLETY', 'TOTAL_ABNORMALITIES',\n",
       "       'TOTAL_OUTLINES', '[<pre>', '</font><font', 'CORE', 'CLUSTERED'],\n",
       "      dtype='object')"
      ]
     },
     "execution_count": 78,
     "metadata": {},
     "output_type": "execute_result"
    }
   ],
   "source": [
    "benigns_abnormalities_df.columns"
   ]
  },
  {
   "cell_type": "code",
   "execution_count": 79,
   "metadata": {},
   "outputs": [
    {
     "data": {
      "text/plain": [
       "Index(['</font></pre>,', '</font></pre>]', '<font', 'ASSESSMENT', 'BOUNDARY',\n",
       "       'FILE:', 'LESION_TYPE', 'PATHOLOGY', 'SUBTLETY', 'TOTAL_ABNORMALITIES',\n",
       "       'TOTAL_OUTLINES', '[<pre>', '</font><font', 'CORE'],\n",
       "      dtype='object')"
      ]
     },
     "execution_count": 79,
     "metadata": {},
     "output_type": "execute_result"
    }
   ],
   "source": [
    "cancers_abnormalities_df.columns"
   ]
  },
  {
   "cell_type": "code",
   "execution_count": 80,
   "metadata": {},
   "outputs": [],
   "source": [
    "benigns_abnormalities_df = benigns_abnormalities_df.drop(['</font></pre>,', '</font></pre>]', '<font', 'BOUNDARY',\\\n",
    "                                                          '[<pre>', '</font><font', 'CORE', 'CLUSTERED'], axis=1)\n",
    "cancers_abnormalities_df = cancers_abnormalities_df.drop(['</font></pre>,', '</font></pre>]', '<font', 'BOUNDARY',\\\n",
    "                                                          '[<pre>', '</font><font', 'CORE'], axis=1)"
   ]
  },
  {
   "cell_type": "code",
   "execution_count": 81,
   "metadata": {},
   "outputs": [
    {
     "data": {
      "text/html": [
       "<div>\n",
       "<style scoped>\n",
       "    .dataframe tbody tr th:only-of-type {\n",
       "        vertical-align: middle;\n",
       "    }\n",
       "\n",
       "    .dataframe tbody tr th {\n",
       "        vertical-align: top;\n",
       "    }\n",
       "\n",
       "    .dataframe thead th {\n",
       "        text-align: right;\n",
       "    }\n",
       "</style>\n",
       "<table border=\"1\" class=\"dataframe\">\n",
       "  <thead>\n",
       "    <tr style=\"text-align: right;\">\n",
       "      <th></th>\n",
       "      <th>ASSESSMENT</th>\n",
       "      <th>FILE:</th>\n",
       "      <th>LESION_TYPE</th>\n",
       "      <th>PATHOLOGY</th>\n",
       "      <th>SUBTLETY</th>\n",
       "      <th>TOTAL_ABNORMALITIES</th>\n",
       "      <th>TOTAL_OUTLINES</th>\n",
       "    </tr>\n",
       "  </thead>\n",
       "  <tbody>\n",
       "    <tr>\n",
       "      <th>0</th>\n",
       "      <td>3</td>\n",
       "      <td>C_0029_1.LEFT_CC.OVERLAY</td>\n",
       "      <td>MASS SHAPE OVAL MARGINS ILL_DEFINED</td>\n",
       "      <td>BENIGN</td>\n",
       "      <td>3</td>\n",
       "      <td>1</td>\n",
       "      <td>1</td>\n",
       "    </tr>\n",
       "    <tr>\n",
       "      <th>1</th>\n",
       "      <td>4</td>\n",
       "      <td>C_0033_1.RIGHT_CC.OVERLAY</td>\n",
       "      <td>MASS SHAPE OVAL MARGINS MICROLOBULATED</td>\n",
       "      <td>BENIGN</td>\n",
       "      <td>4</td>\n",
       "      <td>1</td>\n",
       "      <td>1</td>\n",
       "    </tr>\n",
       "    <tr>\n",
       "      <th>2</th>\n",
       "      <td>3</td>\n",
       "      <td>C_0217_1.RIGHT_CC.OVERLAY</td>\n",
       "      <td>MASS SHAPE ROUND MARGINS CIRCUMSCRIBED</td>\n",
       "      <td>BENIGN</td>\n",
       "      <td>5</td>\n",
       "      <td>1</td>\n",
       "      <td>1</td>\n",
       "    </tr>\n",
       "  </tbody>\n",
       "</table>\n",
       "</div>"
      ],
      "text/plain": [
       "  ASSESSMENT                      FILE:  \\\n",
       "0          3   C_0029_1.LEFT_CC.OVERLAY   \n",
       "1          4  C_0033_1.RIGHT_CC.OVERLAY   \n",
       "2          3  C_0217_1.RIGHT_CC.OVERLAY   \n",
       "\n",
       "                              LESION_TYPE PATHOLOGY SUBTLETY  \\\n",
       "0     MASS SHAPE OVAL MARGINS ILL_DEFINED    BENIGN        3   \n",
       "1  MASS SHAPE OVAL MARGINS MICROLOBULATED    BENIGN        4   \n",
       "2  MASS SHAPE ROUND MARGINS CIRCUMSCRIBED    BENIGN        5   \n",
       "\n",
       "  TOTAL_ABNORMALITIES TOTAL_OUTLINES  \n",
       "0                   1              1  \n",
       "1                   1              1  \n",
       "2                   1              1  "
      ]
     },
     "execution_count": 81,
     "metadata": {},
     "output_type": "execute_result"
    }
   ],
   "source": [
    "benigns_abnormalities_df.head(3)"
   ]
  },
  {
   "cell_type": "code",
   "execution_count": 104,
   "metadata": {},
   "outputs": [
    {
     "data": {
      "text/plain": [
       "array(['MASS SHAPE IRREGULAR MARGINS SPICULATED',\n",
       "       'CALCIFICATION TYPE PLEOMORPHIC DISTRIBUTION SEGMENTAL',\n",
       "       'CALCIFICATION TYPE AMORPHOUS DISTRIBUTION CLUSTERED',\n",
       "       'CALCIFICATION TYPE PLEOMORPHIC DISTRIBUTION CLUSTERED',\n",
       "       'MASS SHAPE LOBULATED MARGINS CIRCUMSCRIBED',\n",
       "       'MASS SHAPE IRREGULAR MARGINS ILL_DEFINED',\n",
       "       'MASS SHAPE LOBULATED MARGINS ILL_DEFINED',\n",
       "       'MASS SHAPE ARCHITECTURAL_DISTORTION MARGINS SPICULATED',\n",
       "       'MASS SHAPE IRREGULAR-ARCHITECTURAL_DISTORTION MARGINS SPICULATED',\n",
       "       'CALCIFICATION TYPE FINE_LINEAR_BRANCHING DISTRIBUTION LINEAR-SEGMENTAL',\n",
       "       'CALCIFICATION TYPE PUNCTATE-AMORPHOUS-PLEOMORPHIC DISTRIBUTION CLUSTERED',\n",
       "       'CALCIFICATION TYPE PLEOMORPHIC DISTRIBUTION REGIONAL',\n",
       "       'CALCIFICATION TYPE AMORPHOUS-PLEOMORPHIC DISTRIBUTION CLUSTERED',\n",
       "       'MASS SHAPE LOBULATED-ARCHITECTURAL_DISTORTION MARGINS MICROLOBULATED-SPICULATED',\n",
       "       'MASS SHAPE LOBULATED MARGINS CIRCUMSCRIBED-ILL_DEFINED',\n",
       "       'MASS SHAPE IRREGULAR-ARCHITECTURAL_DISTORTION MARGINS OBSCURED-ILL_DEFINED-SPICULATED',\n",
       "       'CALCIFICATION TYPE PLEOMORPHIC-FINE_LINEAR_BRANCHING DISTRIBUTION SEGMENTAL',\n",
       "       'CALCIFICATION TYPE PLEOMORPHIC-FINE_LINEAR_BRANCHING DISTRIBUTION CLUSTERED',\n",
       "       'MASS SHAPE ROUND MARGINS ILL_DEFINED',\n",
       "       'MASS SHAPE IRREGULAR MARGINS OBSCURED-ILL_DEFINED',\n",
       "       'CALCIFICATION TYPE PUNCTATE-PLEOMORPHIC DISTRIBUTION CLUSTERED',\n",
       "       'MASS SHAPE IRREGULAR MARGINS ILL_DEFINED-SPICULATED',\n",
       "       'MASS SHAPE IRREGULAR MARGINS OBSCURED-ILL_DEFINED-SPICULATED',\n",
       "       'CALCIFICATION TYPE FINE_LINEAR_BRANCHING DISTRIBUTION CLUSTERED-LINEAR',\n",
       "       'CALCIFICATION TYPE PLEOMORPHIC DISTRIBUTION CLUSTERED-LINEAR',\n",
       "       'MASS SHAPE IRREGULAR MARGINS MICROLOBULATED',\n",
       "       'MASS SHAPE LOBULATED-ARCHITECTURAL_DISTORTION MARGINS OBSCURED-ILL_DEFINED',\n",
       "       'MASS SHAPE IRREGULAR MARGINS CIRCUMSCRIBED-ILL_DEFINED',\n",
       "       'CALCIFICATION TYPE AMORPHOUS-ROUND_AND_REGULAR DISTRIBUTION CLUSTERED',\n",
       "       'MASS SHAPE OVAL MARGINS SPICULATED',\n",
       "       'MASS SHAPE LOBULATED-IRREGULAR MARGINS SPICULATED',\n",
       "       'MASS SHAPE OVAL MARGINS ILL_DEFINED',\n",
       "       'MASS SHAPE LOBULATED MARGINS MICROLOBULATED',\n",
       "       'MASS SHAPE ROUND MARGINS CIRCUMSCRIBED',\n",
       "       'MASS SHAPE ARCHITECTURAL_DISTORTION MARGINS ILL_DEFINED',\n",
       "       'MASS SHAPE OVAL MARGINS MICROLOBULATED',\n",
       "       'CALCIFICATION TYPE PUNCTATE DISTRIBUTION CLUSTERED',\n",
       "       'CALCIFICATION TYPE FINE_LINEAR_BRANCHING DISTRIBUTION CLUSTERED',\n",
       "       'MASS SHAPE LOBULATED MARGINS SPICULATED',\n",
       "       'MASS SHAPE ARCHITECTURAL_DISTORTION MARGINS N/A',\n",
       "       'MASS SHAPE OVAL MARGINS CIRCUMSCRIBED',\n",
       "       'MASS SHAPE ROUND MARGINS SPICULATED',\n",
       "       'CALCIFICATION TYPE AMORPHOUS-PLEOMORPHIC DISTRIBUTION SEGMENTAL',\n",
       "       'CALCIFICATION TYPE AMORPHOUS DISTRIBUTION REGIONAL',\n",
       "       'MASS SHAPE LOBULATED MARGINS CIRCUMSCRIBED-OBSCURED-ILL_DEFINED',\n",
       "       'CALCIFICATION TYPE FINE_LINEAR_BRANCHING DISTRIBUTION LINEAR',\n",
       "       'CALCIFICATION TYPE PLEOMORPHIC DISTRIBUTION LINEAR',\n",
       "       'MASS SHAPE OVAL MARGINS OBSCURED',\n",
       "       'CALCIFICATION TYPE ROUND_AND_REGULAR DISTRIBUTION CLUSTERED',\n",
       "       'MASS SHAPE ROUND MARGINS MICROLOBULATED',\n",
       "       'CALCIFICATION TYPE FINE_LINEAR_BRANCHING DISTRIBUTION REGIONAL',\n",
       "       'CALCIFICATION TYPE AMORPHOUS DISTRIBUTION SEGMENTAL',\n",
       "       'MASS SHAPE LOBULATED MARGINS OBSCURED',\n",
       "       'CALCIFICATION TYPE FINE_LINEAR_BRANCHING DISTRIBUTION SEGMENTAL',\n",
       "       'MASS SHAPE ROUND MARGINS OBSCURED-ILL_DEFINED',\n",
       "       'CALCIFICATION TYPE PUNCTATE DISTRIBUTION SEGMENTAL',\n",
       "       'CALCIFICATION TYPE AMORPHOUS DISTRIBUTION DIFFUSELY_SCATTERED',\n",
       "       'MASS SHAPE ASYMMETRIC_BREAST_TISSUE MARGINS ILL_DEFINED',\n",
       "       'MASS SHAPE IRREGULAR MARGINS OBSCURED',\n",
       "       'MASS SHAPE IRREGULAR-ARCHITECTURAL_DISTORTION MARGINS ILL_DEFINED-SPICULATED',\n",
       "       'CALCIFICATION TYPE PLEOMORPHIC-FINE_LINEAR_BRANCHING DISTRIBUTION LINEAR-SEGMENTAL',\n",
       "       'MASS SHAPE OVAL MARGINS CIRCUMSCRIBED-OBSCURED',\n",
       "       'MASS SHAPE FOCAL_ASYMMETRIC_DENSITY MARGINS N/A',\n",
       "       'CALCIFICATION TYPE PLEOMORPHIC-FINE_LINEAR_BRANCHING DISTRIBUTION CLUSTERED-LINEAR',\n",
       "       'MASS SHAPE IRREGULAR-ARCHITECTURAL_DISTORTION MARGINS MICROLOBULATED-ILL_DEFINED-SPICULATED',\n",
       "       'CALCIFICATION TYPE COARSE-ROUND_AND_REGULAR DISTRIBUTION N/A',\n",
       "       'MASS SHAPE IRREGULAR-ARCHITECTURAL_DISTORTION MARGINS ILL_DEFINED',\n",
       "       'MASS SHAPE FOCAL_ASYMMETRIC_DENSITY MARGINS ILL_DEFINED',\n",
       "       'MASS SHAPE LOBULATED-IRREGULAR MARGINS OBSCURED-ILL_DEFINED',\n",
       "       'MASS SHAPE ROUND MARGINS OBSCURED',\n",
       "       'MASS SHAPE ROUND-IRREGULAR-ARCHITECTURAL_DISTORTION MARGINS SPICULATED',\n",
       "       'CALCIFICATION TYPE PUNCTATE DISTRIBUTION REGIONAL',\n",
       "       'CALCIFICATION TYPE PLEOMORPHIC DISTRIBUTION DIFFUSELY_SCATTERED',\n",
       "       'CALCIFICATION TYPE AMORPHOUS DISTRIBUTION LINEAR',\n",
       "       'CALCIFICATION TYPE PUNCTATE-FINE_LINEAR_BRANCHING DISTRIBUTION CLUSTERED',\n",
       "       'CALCIFICATION TYPE AMORPHOUS-PLEOMORPHIC DISTRIBUTION REGIONAL',\n",
       "       'CALCIFICATION TYPE PLEOMORPHIC-FINE_LINEAR_BRANCHING DISTRIBUTION LINEAR',\n",
       "       'MASS SHAPE LOBULATED MARGINS OBSCURED-ILL_DEFINED',\n",
       "       'MASS SHAPE ARCHITECTURAL_DISTORTION MARGINS ILL_DEFINED-SPICULATED',\n",
       "       'MASS SHAPE LOBULATED MARGINS CIRCUMSCRIBED-OBSCURED',\n",
       "       'CALCIFICATION TYPE PUNCTATE-PLEOMORPHIC-FINE_LINEAR_BRANCHING DISTRIBUTION SEGMENTAL',\n",
       "       'MASS SHAPE IRREGULAR-ARCHITECTURAL_DISTORTION MARGINS OBSCURED-ILL_DEFINED',\n",
       "       'CALCIFICATION TYPE N/A DISTRIBUTION CLUSTERED',\n",
       "       'CALCIFICATION TYPE COARSE DISTRIBUTION N/A',\n",
       "       'MASS SHAPE IRREGULAR MARGINS MICROLOBULATED-ILL_DEFINED',\n",
       "       'MASS SHAPE IRREGULAR MARGINS CIRCUMSCRIBED-SPICULATED',\n",
       "       'CALCIFICATION TYPE ROUND_AND_REGULAR-PUNCTATE DISTRIBUTION DIFFUSELY_SCATTERED',\n",
       "       'MASS SHAPE IRREGULAR MARGINS CIRCUMSCRIBED-MICROLOBULATED-ILL_DEFINED',\n",
       "       'CALCIFICATION TYPE PLEOMORPHIC-FINE_LINEAR_BRANCHING DISTRIBUTION REGIONAL'],\n",
       "      dtype=object)"
      ]
     },
     "execution_count": 104,
     "metadata": {},
     "output_type": "execute_result"
    }
   ],
   "source": [
    "cancers_abnormalities_df['LESION_TYPE'].unique()"
   ]
  },
  {
   "cell_type": "code",
   "execution_count": 109,
   "metadata": {},
   "outputs": [],
   "source": [
    "# tylko mass, odrzucić shape: oval i round"
   ]
  },
  {
   "cell_type": "code",
   "execution_count": 90,
   "metadata": {},
   "outputs": [],
   "source": [
    "benigns_abnormalities_df['filename'] = benigns_abnormalities_df.apply(lambda row: row['FILE:'].split('.')[0].replace('_','-'), axis=1)\n",
    "cancers_abnormalities_df['filename'] = cancers_abnormalities_df.apply(lambda row: row['FILE:'].split('.')[0].replace('_','-'), axis=1)"
   ]
  },
  {
   "cell_type": "code",
   "execution_count": 95,
   "metadata": {},
   "outputs": [
    {
     "data": {
      "text/plain": [
       "855"
      ]
     },
     "execution_count": 95,
     "metadata": {},
     "output_type": "execute_result"
    }
   ],
   "source": [
    "len(benigns_df)"
   ]
  },
  {
   "cell_type": "code",
   "execution_count": 97,
   "metadata": {},
   "outputs": [
    {
     "data": {
      "text/plain": [
       "855"
      ]
     },
     "execution_count": 97,
     "metadata": {},
     "output_type": "execute_result"
    }
   ],
   "source": [
    "len(benigns_abnormalities_df)"
   ]
  },
  {
   "cell_type": "code",
   "execution_count": 98,
   "metadata": {},
   "outputs": [
    {
     "data": {
      "text/plain": [
       "914"
      ]
     },
     "execution_count": 98,
     "metadata": {},
     "output_type": "execute_result"
    }
   ],
   "source": [
    "len(cancers_df)"
   ]
  },
  {
   "cell_type": "code",
   "execution_count": 99,
   "metadata": {},
   "outputs": [
    {
     "data": {
      "text/plain": [
       "914"
      ]
     },
     "execution_count": 99,
     "metadata": {},
     "output_type": "execute_result"
    }
   ],
   "source": [
    "len(cancers_abnormalities_df)"
   ]
  },
  {
   "cell_type": "code",
   "execution_count": 103,
   "metadata": {},
   "outputs": [
    {
     "data": {
      "text/plain": [
       "12"
      ]
     },
     "execution_count": 103,
     "metadata": {},
     "output_type": "execute_result"
    }
   ],
   "source": [
    "len(benigns_abnormalities_df[benigns_abnormalities_df['LESION_TYPE'].str.contains(\"MARGINS SPICULATED\")])"
   ]
  },
  {
   "cell_type": "code",
   "execution_count": 106,
   "metadata": {},
   "outputs": [
    {
     "data": {
      "text/plain": [
       "13"
      ]
     },
     "execution_count": 106,
     "metadata": {},
     "output_type": "execute_result"
    }
   ],
   "source": [
    "len(benigns_abnormalities_df[benigns_abnormalities_df['LESION_TYPE'].str.contains(\"ARCHITECTURAL_DISTORTION\")])"
   ]
  },
  {
   "cell_type": "code",
   "execution_count": 107,
   "metadata": {},
   "outputs": [
    {
     "data": {
      "text/plain": [
       "227"
      ]
     },
     "execution_count": 107,
     "metadata": {},
     "output_type": "execute_result"
    }
   ],
   "source": [
    "len(cancers_abnormalities_df[cancers_abnormalities_df['LESION_TYPE'].str.contains(\"MARGINS SPICULATED\")])"
   ]
  },
  {
   "cell_type": "code",
   "execution_count": null,
   "metadata": {},
   "outputs": [],
   "source": []
  },
  {
   "cell_type": "code",
   "execution_count": 108,
   "metadata": {},
   "outputs": [
    {
     "data": {
      "text/plain": [
       "90"
      ]
     },
     "execution_count": 108,
     "metadata": {},
     "output_type": "execute_result"
    }
   ],
   "source": [
    "len(cancers_abnormalities_df[cancers_abnormalities_df['LESION_TYPE'].str.contains(\"ARCHITECTURAL_DISTORTION\")])"
   ]
  },
  {
   "cell_type": "code",
   "execution_count": null,
   "metadata": {},
   "outputs": [],
   "source": []
  }
 ],
 "metadata": {
  "kernelspec": {
   "display_name": "Python 3",
   "language": "python",
   "name": "python3"
  },
  "language_info": {
   "codemirror_mode": {
    "name": "ipython",
    "version": 3
   },
   "file_extension": ".py",
   "mimetype": "text/x-python",
   "name": "python",
   "nbconvert_exporter": "python",
   "pygments_lexer": "ipython3",
   "version": "3.7.1"
  }
 },
 "nbformat": 4,
 "nbformat_minor": 2
}
